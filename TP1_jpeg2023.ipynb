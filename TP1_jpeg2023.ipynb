{
 "nbformat": 4,
 "nbformat_minor": 0,
 "metadata": {
  "colab": {
   "provenance": [],
   "authorship_tag": "ABX9TyOxB7oiqIWWQu8GQ1EZpPzf"
  },
  "kernelspec": {
   "name": "python3",
   "display_name": "Python 3 (ipykernel)",
   "language": "python"
  },
  "language_info": {
   "name": "python"
  }
 },
 "cells": [
  {
   "cell_type": "markdown",
   "source": [
    "<h1>Lab : simplified JPEG encoder/decoder</h1>"
   ],
   "metadata": {
    "id": "4TNaSdUsPFi9"
   }
  },
  {
   "cell_type": "markdown",
   "source": [
    "# VERY IMPORTANT: Take time to read the guidance before coding.\n",
    "\n",
    "**Read the guidance**\n",
    "\n",
    "**Read the topic (.pdf file) first**\n",
    "\n",
    "**Functions to be implemented:**\n",
    "  - rlencode (in Section 1)\n",
    "  - count_symbols (in Section 1)\n",
    "  - and also the 'main' functions (in Section 3)\n",
    "\n",
    "**Some given functions:** (in Section 2)\n",
    "  - zigzag\n",
    "  - functions related to Huffman coding, such as ``construct_huffman_table, encode_huffman, decode_huffman``\n",
    "\n",
    "**Some useful functions:**\n",
    "  - imshow()\n",
    "  - img = cv2.cvtColor(imgOriginal, cv2.COLOR_BGR2GRAY)\n",
    "  - cv2.dct\n",
    "\n",
    "# **You can directly go to Section 3 and code there**"
   ],
   "metadata": {
    "id": "ALTlzTtw_Yop"
   }
  },
  {
   "cell_type": "markdown",
   "source": [
    "**Import the libs**"
   ],
   "metadata": {
    "id": "mfLPXd_-_gSE"
   }
  },
  {
   "cell_type": "code",
   "source": [
    "import numpy as np\n",
    "import requests\n",
    "%matplotlib inline\n",
    "import matplotlib.pyplot as plt\n",
    "from PIL import Image\n",
    "from typing import List, Tuple, Any, Dict, Optional\n",
    "\n",
    "import cv2\n",
    "\n",
    "def show(img:np.ndarray):\n",
    "    im = Image.fromarray(img)\n",
    "    print(im.size, im.mode, im.format, img.min(),  img.max())\n",
    "    display(im)\n",
    "\n",
    "def load_from_url(url: str) -> np.ndarray:\n",
    "    return np.asarray(Image.open(requests.get(url, stream=True).raw))\n",
    "\n",
    "def debug_ndarray(arr:np.ndarray, name:str='') -> None:\n",
    "    print(name, arr.shape, arr.dtype, arr.min(), arr.max())\n",
    "\n",
    "def imshow(img):\n",
    "    import cv2\n",
    "    import IPython\n",
    "    _,ret = cv2.imencode('.jpg', img)\n",
    "    i = IPython.display.Image(data=ret)\n",
    "    IPython.display.display(i)"
   ],
   "metadata": {
    "id": "YVoNmxrfHQqe",
    "ExecuteTime": {
     "end_time": "2025-03-13T08:01:11.903405Z",
     "start_time": "2025-03-13T08:01:11.792897Z"
    }
   },
   "outputs": [
    {
     "ename": "ModuleNotFoundError",
     "evalue": "No module named 'numpy'",
     "output_type": "error",
     "traceback": [
      "\u001B[31m---------------------------------------------------------------------------\u001B[39m",
      "\u001B[31mModuleNotFoundError\u001B[39m                       Traceback (most recent call last)",
      "\u001B[36mCell\u001B[39m\u001B[36m \u001B[39m\u001B[32mIn[1]\u001B[39m\u001B[32m, line 1\u001B[39m\n\u001B[32m----> \u001B[39m\u001B[32m1\u001B[39m \u001B[38;5;28;01mimport\u001B[39;00m\u001B[38;5;250m \u001B[39m\u001B[34;01mnumpy\u001B[39;00m\u001B[38;5;250m \u001B[39m\u001B[38;5;28;01mas\u001B[39;00m\u001B[38;5;250m \u001B[39m\u001B[34;01mnp\u001B[39;00m\n\u001B[32m      2\u001B[39m \u001B[38;5;28;01mimport\u001B[39;00m\u001B[38;5;250m \u001B[39m\u001B[34;01mrequests\u001B[39;00m\n\u001B[32m      3\u001B[39m get_ipython().run_line_magic(\u001B[33m'\u001B[39m\u001B[33mmatplotlib\u001B[39m\u001B[33m'\u001B[39m, \u001B[33m'\u001B[39m\u001B[33minline\u001B[39m\u001B[33m'\u001B[39m)\n",
      "\u001B[31mModuleNotFoundError\u001B[39m: No module named 'numpy'"
     ]
    }
   ],
   "execution_count": 1
  },
  {
   "cell_type": "markdown",
   "source": [
    "# 1. Functions to be implemented\n",
    "\n",
    "*   rlencode: Run length coding\n",
    "*   count_symbols: this will be used for Huffman coding\n",
    "*   zigzag: Implementing this function is optional, as there is a relatively simple 'manual' method available for accomplishing the task (see the begining of Section 3)\n",
    "# *   **Note: however, you dont need to implement these functions immediately. You can go to Section 3 to implement different first steps of JPEG: block devivision, centering, DCT, quantification.**\n",
    "\n",
    "\n",
    "\n"
   ],
   "metadata": {
    "id": "ZomdSCGdjJuH"
   }
  },
  {
   "cell_type": "code",
   "execution_count": null,
   "metadata": {
    "id": "ZeU-n-zeGUzU",
    "executionInfo": {
     "status": "ok",
     "timestamp": 1679056703322,
     "user_tz": -60,
     "elapsed": 9,
     "user": {
      "displayName": "Ngoc Son VU",
      "userId": "09950164676861804363"
     }
    },
    "colab": {
     "base_uri": "https://localhost:8080/"
    },
    "outputId": "2358f94b-b7ba-497b-a172-22fc0fabb6c8"
   },
   "outputs": [
    {
     "output_type": "stream",
     "name": "stdout",
     "text": [
      "{0: 4, 1: 3, 2: 2, 3: 1}\n"
     ]
    }
   ],
   "source": [
    "def zigzag(matrix: np.ndarray) -> np.ndarray:\n",
    "    \"\"\"\n",
    "    computes the zigzag of a quantized block\n",
    "    :param numpy.ndarray matrix: quantized matrix\n",
    "    :returns: zigzag vectors in an array\n",
    "    \"\"\"\n",
    "    # initializing the variables\n",
    "    h = 0\n",
    "    v = 0\n",
    "    v_min = 0\n",
    "    h_min = 0\n",
    "    v_max = matrix.shape[0]\n",
    "    h_max = matrix.shape[1]\n",
    "    i = 0\n",
    "    output = np.zeros((v_max * h_max))\n",
    "\n",
    "    while (v < v_max) and (h < h_max):\n",
    "        if ((h + v) % 2) == 0:  # going up\n",
    "            if v == v_min:\n",
    "                output[i] = matrix[v, h]  # first line\n",
    "                if h == h_max:\n",
    "                    v = v + 1\n",
    "                else:\n",
    "                    h = h + 1\n",
    "                i = i + 1\n",
    "            elif (h == h_max - 1) and (v < v_max):  # last column\n",
    "                output[i] = matrix[v, h]\n",
    "                v = v + 1\n",
    "                i = i + 1\n",
    "            elif (v > v_min) and (h < h_max - 1):  # all other cases\n",
    "                output[i] = matrix[v, h]\n",
    "                v = v - 1\n",
    "                h = h + 1\n",
    "                i = i + 1\n",
    "        else:  # going down\n",
    "            if (v == v_max - 1) and (h <= h_max - 1):  # last line\n",
    "                output[i] = matrix[v, h]\n",
    "                h = h + 1\n",
    "                i = i + 1\n",
    "            elif h == h_min:  # first column\n",
    "                output[i] = matrix[v, h]\n",
    "                if v == v_max - 1:\n",
    "                    h = h + 1\n",
    "                else:\n",
    "                    v = v + 1\n",
    "                i = i + 1\n",
    "            elif (v < v_max - 1) and (h > h_min):  # all other cases\n",
    "                output[i] = matrix[v, h]\n",
    "                v = v + 1\n",
    "                h = h - 1\n",
    "                i = i + 1\n",
    "        if (v == v_max - 1) and (h == h_max - 1):  # bottom right element\n",
    "            output[i] = matrix[v, h]\n",
    "            break\n",
    "    return output\n",
    "\n",
    "\n",
    "def rlencode(data:list, symbol:int=0, escape=257) -> np.ndarray:\n",
    "    '''\n",
    "    Encode a list of values using run length encoding\n",
    "    when `symbol` is encountered,\n",
    "    the next value is `escape` followed by the number of `symbol`.\n",
    "    '''\n",
    "    out = []\n",
    "    ###\n",
    "    #TODO\n",
    "    ###\n",
    "    return np.array(out)\n",
    "\n",
    "def count_symbols(data:list) -> Dict[Any, int]:\n",
    "    '''\n",
    "    Compute the frequency of each value in the list\n",
    "    '''\n",
    "    freq = {}\n",
    "    ###\n",
    "    #TODO\n",
    "    ###\n",
    "    return freq\n",
    "\n",
    "\n",
    "#testing\n",
    "freq = count_symbols([0, 0, 0, 0, 1, 1, 1, 2, 2, 3])\n",
    "print(freq)\n",
    "#'output: {0: 4, 1: 3, 2: 2, 3: 1}'\n"
   ]
  },
  {
   "cell_type": "markdown",
   "source": [
    "#2. Given functions"
   ],
   "metadata": {
    "id": "le6YotStjsQI"
   }
  },
  {
   "cell_type": "markdown",
   "source": [
    "**Huffman tree**\n",
    "\n",
    "To obtain the Huffman code, it is necessary to construct a (binary) Huffman tree.\n",
    "This tree is constructed from a list of leaves (symbols) and internal nodes (sum of the weights of the children).\n",
    "Each node is associated with a value which is the sum of the values of its children.\n",
    "The leaves correspond to symbols and are associated with their number of occurrences in the vector.\n",
    "\n",
    "<img src=\"https://upload.wikimedia.org/wikipedia/commons/thumb/8/82/Huffman_tree_2.svg/1200px-Huffman_tree_2.svg.png\" width=500>\n",
    "\n",
    "Huffman encoding involves counting the number of occurrences of each character in a sentence and representing each character as a leaf node on a tree with a weight equal to its occurrence count. The tree is constructed by combining the two nodes with the lowest weights at each step until only one node, the root of the tree, remains."
   ],
   "metadata": {
    "id": "1LSz2RabIc-y"
   }
  },
  {
   "cell_type": "code",
   "source": [
    "def compute_huffman_tree(data:list, freq:Optional[dict]=None) -> Tuple[int, Any, Any]:\n",
    "    '''\n",
    "    Compute a huffman tree from a frequency table of values\n",
    "    Return the root node of the tree\n",
    "    '''\n",
    "    if freq is None:\n",
    "        freq: Dict[Any, int] = count_symbols(data)\n",
    "\n",
    "    # create a list of nodes\n",
    "    nodes = []\n",
    "    for symbol, freq in freq.items():\n",
    "        nodes.append((freq, symbol))\n",
    "\n",
    "    # sort the list of nodes by count\n",
    "    nodes.sort(key=lambda x: x[0])\n",
    "\n",
    "    # create a tree\n",
    "    while len(nodes) > 1:\n",
    "        # get the two lowest frequency nodes\n",
    "        left, right = nodes[:2]\n",
    "\n",
    "        # create a new node with the sum of the frequencies\n",
    "        new_node_count = left[0] + right[0]\n",
    "        new_node = (new_node_count, left, right)\n",
    "        # remove the two lowest frequency nodes\n",
    "        nodes = nodes[2:]\n",
    "        # insert the new node\n",
    "        nodes.append(new_node)\n",
    "        # sort the nodes by frequency\n",
    "        nodes.sort(key=lambda x: x[0])\n",
    "\n",
    "    # return the root node\n",
    "    return nodes[0]\n",
    "\n",
    "sentence = \"this is an example of a huffman tree\"\n",
    "#convert sentence to list of characters\n",
    "data = list(sentence)\n",
    "\n",
    "from pprint import pprint\n",
    "\n",
    "data_tree = compute_huffman_tree(data)\n",
    "pprint(data_tree)"
   ],
   "metadata": {
    "colab": {
     "base_uri": "https://localhost:8080/"
    },
    "id": "YQzzUWkdCgYn",
    "executionInfo": {
     "status": "ok",
     "timestamp": 1679056703323,
     "user_tz": -60,
     "elapsed": 8,
     "user": {
      "displayName": "Ngoc Son VU",
      "userId": "09950164676861804363"
     }
    },
    "outputId": "ea3de6f7-ad1b-499a-f095-47d954696bc4"
   },
   "execution_count": null,
   "outputs": [
    {
     "output_type": "stream",
     "name": "stdout",
     "text": [
      "(36,\n",
      " (16,\n",
      "  (8, (4, 'a'), (4, 'e')),\n",
      "  (8, (4, (2, 't'), (2, 'h')), (4, (2, 'i'), (2, 's')))),\n",
      " (20,\n",
      "  (8,\n",
      "   (4, (2, 'n'), (2, 'm')),\n",
      "   (4, (2, (1, 'x'), (1, 'p')), (2, (1, 'l'), (1, 'o')))),\n",
      "  (12, (5, (2, (1, 'u'), (1, 'r')), (3, 'f')), (7, ' '))))\n"
     ]
    }
   ]
  },
  {
   "cell_type": "markdown",
   "source": [
    "**Huffman coding table**\n",
    "\n",
    "Read and test the following functions"
   ],
   "metadata": {
    "id": "aVF8AjN2JaRY"
   }
  },
  {
   "cell_type": "code",
   "source": [
    "def display_table(lines, code:dict, sep='\\t'):\n",
    "    '''\n",
    "    Display a table of data with columns aligned\n",
    "    '''\n",
    "    cols_width = [max(len(str(x)) for x in col) for col in zip(*lines)]\n",
    "    for line in lines:\n",
    "        # adjust each column to its max width\n",
    "        print(*[x.rjust(w) for x, w in zip(line, cols_width)], sep=sep)\n",
    "\n",
    "def display_huffman_table(data, code:dict, sep='\\t'):\n",
    "    counts: dict = count_symbols(data)\n",
    "    total = sum(counts.values())\n",
    "    lines = [('Symbol', 'Code', 'Count', 'Frequency')]\n",
    "    tmp = sorted(list(counts.keys()), key=lambda x: counts[x], reverse=True)\n",
    "    for k in tmp:\n",
    "        symbol = f\"`{k}`\"\n",
    "        symbol_code = str(counts[k])\n",
    "        count = str(code[k])\n",
    "        freq = str(round(100 * counts[k] / total, 2))+'%'\n",
    "        lines.append((symbol, symbol_code, count, freq))\n",
    "    display_table(lines, code, sep=sep)\n",
    "\n",
    "def bintree_to_table(node, path=None, left='0', right='1') -> Dict[str, str]:\n",
    "    '''\n",
    "    Build a huffman table from a huffman tree\n",
    "    Return a dictionary of symbol:code\n",
    "    '''\n",
    "    if path is None:\n",
    "        path = ''\n",
    "    table = {}\n",
    "    if len(node) == 2: # leaf node\n",
    "        count, symbol = node\n",
    "        table[symbol] = path\n",
    "    else: # internal node\n",
    "        node_left, node_right = node[1], node[2]\n",
    "        left_path = bintree_to_table(node_left, path + left, left=left, right=right)\n",
    "        right_path = bintree_to_table(node_right, path + right, left=left, right=right)\n",
    "        table.update(left_path)\n",
    "        table.update(right_path)\n",
    "\n",
    "    return table\n",
    "\n",
    "sentence = \"this is an example of a huffman tree\"\n",
    "#convert sentence to list of characters\n",
    "data = list(sentence)\n",
    "data_tree = compute_huffman_tree(data)\n",
    "data_table = bintree_to_table(data_tree)\n",
    "\n",
    "# display the huffman table\n",
    "display_huffman_table(data, data_table)\n"
   ],
   "metadata": {
    "colab": {
     "base_uri": "https://localhost:8080/"
    },
    "id": "htmZMdetC1Oh",
    "executionInfo": {
     "status": "ok",
     "timestamp": 1679056704463,
     "user_tz": -60,
     "elapsed": 17,
     "user": {
      "displayName": "Ngoc Son VU",
      "userId": "09950164676861804363"
     }
    },
    "outputId": "f3ac0c87-df35-4b26-b42e-867bd85e34f4"
   },
   "execution_count": null,
   "outputs": [
    {
     "output_type": "stream",
     "name": "stdout",
     "text": [
      "Symbol\tCode\tCount\tFrequency\n",
      "   ` `\t   7\t  111\t   19.44%\n",
      "   `a`\t   4\t  000\t   11.11%\n",
      "   `e`\t   4\t  001\t   11.11%\n",
      "   `f`\t   3\t 1101\t    8.33%\n",
      "   `t`\t   2\t 0100\t    5.56%\n",
      "   `h`\t   2\t 0101\t    5.56%\n",
      "   `i`\t   2\t 0110\t    5.56%\n",
      "   `s`\t   2\t 0111\t    5.56%\n",
      "   `n`\t   2\t 1000\t    5.56%\n",
      "   `m`\t   2\t 1001\t    5.56%\n",
      "   `x`\t   1\t10100\t    2.78%\n",
      "   `p`\t   1\t10101\t    2.78%\n",
      "   `l`\t   1\t10110\t    2.78%\n",
      "   `o`\t   1\t10111\t    2.78%\n",
      "   `u`\t   1\t11000\t    2.78%\n",
      "   `r`\t   1\t11001\t    2.78%\n"
     ]
    }
   ]
  },
  {
   "cell_type": "markdown",
   "source": [
    "***Take time to test the three following functions, you will use them for Huffman codage/decodage***"
   ],
   "metadata": {
    "id": "Qgc-4Sh1Mw-n"
   }
  },
  {
   "cell_type": "code",
   "source": [
    "def construct_huffman_table(data:list) -> dict:\n",
    "    '''\n",
    "    Encode a list of values using huffman encoding and return the huffman table\n",
    "    '''\n",
    "    counts = count_symbols(data)\n",
    "    tree = compute_huffman_tree(counts)\n",
    "    table = bintree_to_table(tree)\n",
    "    return table\n",
    "\n",
    "def encode_huffman(data: list, table: dict) -> str:\n",
    "    '''\n",
    "    Encode a list of values using the huffman table dictionary\n",
    "    Return the encoded string\n",
    "    '''\n",
    "    out = []\n",
    "    for i in data:\n",
    "        out.extend(table[i])\n",
    "    out = ''.join(out) # list to string\n",
    "    return out\n",
    "\n",
    "def decode_huffman(encoded:str, table: dict) -> np.ndarray:\n",
    "    '''\n",
    "    Decode a list of values using huffman code dictionary\n",
    "    '''\n",
    "    data = []\n",
    "    i = 0\n",
    "    while i < len(encoded):\n",
    "        for k, v in table.items():\n",
    "            if encoded[i:].startswith(v): # prefix match\n",
    "                data.append(k)\n",
    "                i += len(v)\n",
    "                break\n",
    "    return np.array(data)\n",
    "\n",
    "# testing\n",
    "sentence = \"this is an example of a huffman tree\"\n",
    "#convert sentence to list of characters\n",
    "data = list(sentence)\n",
    "table = construct_huffman_table(data)\n",
    "print(\"Test 1\")\n",
    "print(table)\n",
    "\n",
    "# Testing\n",
    "print(\"Test 2\")\n",
    "data = [0, 1, 0, 0, 0, 0, 0, 2, 0, 4, 4, 2, 3]\n",
    "data_table = construct_huffman_table(data)\n",
    "print('Original :', data)\n",
    "\n",
    "encoded = encode_huffman(data, data_table)\n",
    "print('Encoded  :', encoded)\n",
    "\n",
    "decoded = decode_huffman(encoded, data_table)\n",
    "print('Decoded  :', decoded)\n"
   ],
   "metadata": {
    "colab": {
     "base_uri": "https://localhost:8080/"
    },
    "id": "7HyHuEeuC_fv",
    "executionInfo": {
     "status": "ok",
     "timestamp": 1679056704464,
     "user_tz": -60,
     "elapsed": 14,
     "user": {
      "displayName": "Ngoc Son VU",
      "userId": "09950164676861804363"
     }
    },
    "outputId": "63912db2-5b5b-4cb3-be3a-eb32658b007a"
   },
   "execution_count": null,
   "outputs": [
    {
     "output_type": "stream",
     "name": "stdout",
     "text": [
      "Test 1\n",
      "{'t': '0000', 'h': '0001', 'i': '0010', 's': '0011', ' ': '0100', 'a': '0101', 'n': '0110', 'e': '0111', 'x': '1000', 'm': '1001', 'p': '1010', 'l': '1011', 'o': '1100', 'f': '1101', 'u': '1110', 'r': '1111'}\n",
      "Test 2\n",
      "Original : [0, 1, 0, 0, 0, 0, 0, 2, 0, 4, 4, 2, 3]\n",
      "Encoded  : 1101111101101101101100011001010010\n",
      "Decoded  : [0 1 0 0 0 0 0 2 0 4 4 2 3]\n"
     ]
    }
   ]
  },
  {
   "cell_type": "markdown",
   "source": [
    "#3. TODO: Codage/Decodage"
   ],
   "metadata": {
    "id": "CA6LGOo8j01k"
   }
  },
  {
   "cell_type": "code",
   "source": [
    "# ZigZag example\n",
    "\n",
    "# This will be used for of ZigZag...\n",
    "col = np.array([1, 2, 1, 1, 2, 3, 4, 3, 2, 1, 1, 2, 3, 4, 5, 6, 5, 4, 3, 2, 1, 1, 2, 3, 4, 5,\n",
    "                6, 7, 8, 7, 6, 5, 4, 3, 2, 1, 2, 3, 4, 5, 6, 7, 8, 8, 7, 6, 5, 4, 3, 4, 5, 6, 7, 8, 8, 7, 6, 5, 6, 7, 8, 8, 7, 8])\n",
    "\n",
    "lig = np.array([1, 1, 2, 3, 2, 1, 1, 2, 3, 4, 5, 4, 3, 2, 1, 1, 2, 3, 4, 5, 6, 7, 6, 5, 4, 3, 2, 1, 1, 2,\n",
    "                3, 4, 5, 6, 7, 8, 8, 7, 6, 5, 4, 3, 2, 3, 4, 5, 6, 7, 8, 8, 7, 6, 5, 4, 5, 6, 7, 8, 8, 7, 6, 7, 8, 8])\n",
    "\n",
    "rdMatrix = np.round(np.random.rand(8,8)*10)\n",
    "\n",
    "out = np.zeros(64)\n",
    "for k in range(64):\n",
    "    out[k] = rdMatrix[lig[k]-1,col[k]-1] # -1 since indexes start from 0 in Python...\n",
    "\n",
    "print(rdMatrix)\n",
    "print(out)\n"
   ],
   "metadata": {
    "colab": {
     "base_uri": "https://localhost:8080/"
    },
    "id": "ic0nKKMFDs2u",
    "executionInfo": {
     "status": "ok",
     "timestamp": 1679299944612,
     "user_tz": -60,
     "elapsed": 205,
     "user": {
      "displayName": "Ngoc Son VU",
      "userId": "09950164676861804363"
     }
    },
    "outputId": "251fafc3-28fd-49d9-a745-a3dd766508b4"
   },
   "execution_count": null,
   "outputs": [
    {
     "output_type": "stream",
     "name": "stdout",
     "text": [
      "[[ 7.  6.  1.  6. 10.  4.  8.  5.]\n",
      " [ 1.  4.  9.  8.  8.  6.  1.  9.]\n",
      " [ 7.  9.  2.  7.  8.  1.  8.  3.]\n",
      " [ 1.  4.  4.  9.  5.  9.  8.  2.]\n",
      " [ 4.  1.  1.  8.  6. 10.  4.  5.]\n",
      " [ 0.  1.  1.  5.  2.  7.  3.  1.]\n",
      " [ 4.  5.  6.  5.  9.  9. 10.  7.]\n",
      " [ 8.  7.  7.  9.  0.  4.  6.  8.]]\n",
      "[ 7.  6.  1.  7.  4.  1.  6.  9.  9.  1.  4.  4.  2.  8. 10.  4.  8.  7.\n",
      "  4.  1.  0.  4.  1.  1.  9.  8.  6.  8.  5.  1.  1.  5.  8.  1.  5.  8.\n",
      "  7.  6.  5.  6.  9.  8.  9.  3.  8. 10.  2.  5.  7.  9.  9.  7.  4.  2.\n",
      "  5.  3.  9.  0.  4. 10.  1.  7.  6.  8.]\n"
     ]
    }
   ]
  },
  {
   "cell_type": "code",
   "source": [
    "# define quantization tables\n",
    "qY = np.array([[16, 11, 10, 16, 24, 40, 51, 61],  # luminance quantization table\n",
    "                [12, 12, 14, 19, 26, 48, 60, 55],\n",
    "                [14, 13, 16, 24, 40, 57, 69, 56],\n",
    "                [14, 17, 22, 29, 51, 87, 80, 62],\n",
    "                [18, 22, 37, 56, 68, 109, 103, 77],\n",
    "                [24, 35, 55, 64, 81, 104, 113, 92],\n",
    "                [49, 64, 78, 87, 103, 121, 120, 101],\n",
    "                [72, 92, 95, 98, 112, 100, 103, 99]])\n",
    "\n",
    "qC = np.array([[17, 18, 24, 47, 99, 99, 99, 99],  # chrominance quantization table\n",
    "                [18, 21, 26, 66, 99, 99, 99, 99],\n",
    "                [24, 26, 56, 99, 99, 99, 99, 99],\n",
    "                [47, 66, 99, 99, 99, 99, 99, 99],\n",
    "                [99, 99, 99, 99, 99, 99, 99, 99],\n",
    "                [99, 99, 99, 99, 99, 99, 99, 99],\n",
    "                [99, 99, 99, 99, 99, 99, 99, 99],\n",
    "                [99, 99, 99, 99, 99, 99, 99, 99]])\n",
    "\n",
    "# read an image and show it\n",
    "url = \"http://www.lenna.org/len_std.jpg\"\n",
    "imgOriginal = load_from_url(url)\n",
    "show(imgOriginal)\n",
    "\n",
    "#TODO: show different channels"
   ],
   "metadata": {
    "colab": {
     "base_uri": "https://localhost:8080/",
     "height": 290
    },
    "id": "4VTZaPReQkoG",
    "executionInfo": {
     "status": "ok",
     "timestamp": 1679056704464,
     "user_tz": -60,
     "elapsed": 9,
     "user": {
      "displayName": "Ngoc Son VU",
      "userId": "09950164676861804363"
     }
    },
    "outputId": "ef59d1fe-b57e-4496-e25f-6bc259b4c3a8"
   },
   "execution_count": null,
   "outputs": [
    {
     "output_type": "stream",
     "name": "stdout",
     "text": [
      "(256, 256) RGB None 0 255\n"
     ]
    },
    {
     "output_type": "display_data",
     "data": {
      "text/plain": [
       "<PIL.Image.Image image mode=RGB size=256x256 at 0x7F20E1FFAD60>"
      ],
      "image/png": "[encoded data removed]"
     },
     "metadata": {}
    }
   ]
  },
  {
   "cell_type": "code",
   "source": [
    "# For students\n",
    "# TODO: Write your 'main' code\n",
    "# convert color image into gray image (or image in YCrCb space)\n",
    "\n",
    "# This is just an example of coding, you can make your code differently\n",
    "\n",
    "# ADVICE: create an other 'Code cell' and write/test your code gradually there\n",
    "# since the code given here is not exectable yet\n",
    "\n",
    "img = cv2.cvtColor(...)\n",
    "# color\n",
    "# First, you can work with only gray images for simplicity\n",
    "\n",
    "\n",
    "width = len(img[0])\n",
    "height = len(img)\n",
    "\n",
    "#\n",
    "img_gray = np.zeros((height, width), np.float32) + img[:, :, 0]\n",
    "#\n",
    "\n",
    "#show img_gray\n",
    "\n",
    "# define block size\n",
    "\n",
    "# compute number of blocks\n",
    "\n",
    "# padding\n",
    "\n",
    "# luminance channels\n",
    "\n",
    "# for color images -----\n",
    "# chrominance channels should be sub-sampled with different sub-sampling factors\n",
    "# A very simple way: using a 2x2 averaging filter # another type of filter can be used\n",
    "# then we can work with the sub-sampled version...\n",
    "#--------------------\n",
    "\n",
    "# define empty matrices to store Dct\n",
    "# imgDct\n",
    "\n",
    "# define empty matrices to store the quantized values\n",
    "# imgQ\n",
    "\n",
    "\n",
    "# This will be used for of ZigZag...\n",
    "col = np.array([1, 2, 1, 1, 2, 3, 4, 3, 2, 1, 1, 2, 3, 4, 5, 6, 5, 4, 3, 2, 1, 1, 2, 3, 4, 5,\n",
    "                6, 7, 8, 7, 6, 5, 4, 3, 2, 1, 2, 3, 4, 5, 6, 7, 8, 8, 7, 6, 5, 4, 3, 4, 5, 6, 7, 8, 8, 7, 6, 5, 6, 7, 8, 8, 7, 8])\n",
    "\n",
    "lig = np.array([1, 1, 2, 3, 2, 1, 1, 2, 3, 4, 5, 4, 3, 2, 1, 1, 2, 3, 4, 5, 6, 7, 6, 5, 4, 3, 2, 1, 1, 2,\n",
    "                3, 4, 5, 6, 7, 8, 8, 7, 6, 5, 4, 3, 2, 3, 4, 5, 6, 7, 8, 8, 7, 6, 5, 4, 5, 6, 7, 8, 8, 7, 6, 7, 8, 8])\n",
    "\n",
    "\n",
    "ZZ_Blk = np.zeros(blockSize * blockSize) #1D\n",
    "\n",
    "vRLC = []\n",
    "\n",
    "size_vRLC = 0\n",
    "\n",
    "#pseudo-code\n",
    "for i in range('number of block'): #of course, this needs to be computed\n",
    "    for j in range('number of block'):\n",
    "        block = y[ ....]). # extract the block\n",
    "\n",
    "        # dct\n",
    "        # you can use something like imgDct['index'] = ...\n",
    "\n",
    "        # quantification\n",
    "        # you can use something like imgQ['index'] = ...\n",
    "\n",
    "        # easy ZigZag Version 2:\n",
    "        ZZ_Blk = ...#\n",
    "        # zigzag (1D)\n",
    "\n",
    "        # run length coding (1D)\n",
    "        # can use `extend` function of numpy vRLC.extend()\n",
    "\n",
    "#end for\n",
    "\n",
    "\n",
    "# Huffman\n",
    "mat_table: dict = construct_huffman_table...\n",
    "mat_encoded: str = encode_huffman..."
   ],
   "metadata": {
    "id": "KByoWLLM8ZVd"
   },
   "execution_count": null,
   "outputs": []
  },
  {
   "cell_type": "code",
   "source": [
    "# For testing a block, all steps (notably zigzag, rlc) are OK\n"
   ],
   "metadata": {
    "id": "LwHA-Go0Z09u"
   },
   "execution_count": null,
   "outputs": []
  },
  {
   "cell_type": "markdown",
   "source": [
    "**Compute compression rates at different stages**"
   ],
   "metadata": {
    "id": "VhjEJ_I5kPiW"
   }
  },
  {
   "cell_type": "code",
   "source": [
    "# number of bits in original image\n",
    "H, W, C = img.shape\n",
    "\n",
    "\n",
    "print(size_yRLC)"
   ],
   "metadata": {
    "id": "85TaO4a3GdFS",
    "executionInfo": {
     "status": "ok",
     "timestamp": 1679056704867,
     "user_tz": -60,
     "elapsed": 15,
     "user": {
      "displayName": "Ngoc Son VU",
      "userId": "09950164676861804363"
     }
    },
    "colab": {
     "base_uri": "https://localhost:8080/"
    },
    "outputId": "5f191bb4-5fd5-4786-848b-99131230ad9a"
   },
   "execution_count": null,
   "outputs": [
    {
     "output_type": "stream",
     "name": "stdout",
     "text": [
      "Number of bits (original) : 524288\n",
      "Number of elelemnts (yRLC)  : 15256\n",
      "Number of bits (encoded)  : 106577\n",
      "Compression ratio: 4.92\n",
      "256 256 3\n",
      "15256\n"
     ]
    }
   ]
  },
  {
   "cell_type": "markdown",
   "source": [
    "**Decodage**"
   ],
   "metadata": {
    "id": "DhFM3uMBkYt6"
   }
  },
  {
   "cell_type": "code",
   "source": [
    "# Huffman decoding\n",
    "decoded = decode_huffman...\n",
    "print(len(decoded))"
   ],
   "metadata": {
    "id": "ZWETZPpALruV",
    "executionInfo": {
     "status": "ok",
     "timestamp": 1679056795925,
     "user_tz": -60,
     "elapsed": 1358,
     "user": {
      "displayName": "Ngoc Son VU",
      "userId": "09950164676861804363"
     }
    },
    "colab": {
     "base_uri": "https://localhost:8080/"
    },
    "outputId": "5e49d473-a5d5-41a2-fa01-783571c2ee3b"
   },
   "execution_count": null,
   "outputs": [
    {
     "output_type": "stream",
     "name": "stdout",
     "text": [
      "15256\n"
     ]
    }
   ]
  },
  {
   "cell_type": "code",
   "source": [
    "print(decoded)"
   ],
   "metadata": {
    "colab": {
     "base_uri": "https://localhost:8080/"
    },
    "id": "0PlfTBSFlHYe",
    "executionInfo": {
     "status": "ok",
     "timestamp": 1679056800730,
     "user_tz": -60,
     "elapsed": 255,
     "user": {
      "displayName": "Ngoc Son VU",
      "userId": "09950164676861804363"
     }
    },
    "outputId": "8a2881dc-4191-4e63-fd7a-030ab4497c65"
   },
   "execution_count": null,
   "outputs": [
    {
     "output_type": "stream",
     "name": "stdout",
     "text": [
      "[  5.   1.   2. ...   1. 257.  46.]\n"
     ]
    }
   ]
  },
  {
   "cell_type": "code",
   "source": [
    "decoded - yRLC"
   ],
   "metadata": {
    "colab": {
     "base_uri": "https://localhost:8080/"
    },
    "id": "biKCa-Uwlbaw",
    "executionInfo": {
     "status": "ok",
     "timestamp": 1679056832499,
     "user_tz": -60,
     "elapsed": 5,
     "user": {
      "displayName": "Ngoc Son VU",
      "userId": "09950164676861804363"
     }
    },
    "outputId": "e6b18edb-8983-47b8-b8ca-cf6ab10146a8"
   },
   "execution_count": null,
   "outputs": [
    {
     "output_type": "execute_result",
     "data": {
      "text/plain": [
       "array([0., 0., 0., ..., 0., 0., 0.])"
      ]
     },
     "metadata": {},
     "execution_count": 322
    }
   ]
  }
 ]
}
