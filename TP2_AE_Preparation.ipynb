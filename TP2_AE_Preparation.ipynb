{
 "nbformat": 4,
 "nbformat_minor": 0,
 "metadata": {
  "colab": {
   "provenance": []
  },
  "kernelspec": {
   "name": "python3",
   "display_name": "Python 3 (ipykernel)",
   "language": "python"
  },
  "language_info": {
   "name": "python"
  }
 },
 "cells": [
  {
   "cell_type": "markdown",
   "source": [
    "# I - Preparatory Questions\n",
    "\n",
    "## Deep Learning in General\n",
    "\n",
    "Watch these videos and answer the questions (mandatory) :    \n",
    "* https://www.coursera.org/lecture/convolutional-neural-networks/why-convolutions-Xv7B5\n",
    "\n",
    "* https://www.youtube.com/watch?v=bfmFfD2RIcg\n",
    "\n",
    "More in-depth explanations:\n",
    "* https://www.youtube.com/watch?v=aircAruvnKk\n",
    "* https://www.youtube.com/watch?v=IHZwWFHWa-w\n",
    "* https://www.youtube.com/watch?v=Ilg3gGewQ5U\n",
    "\n",
    "Questions :      \n",
    "* What is the difference between supervised and unsupervised learning?\n",
    "* What is an Activation Function?\n",
    "* What is a Loss Function?\n",
    "* What is a Multi Layer Perceptron?\n",
    "* What is a Convolutional Layer?\n",
    "* What is the difference between MLP and Conv Layers?\n",
    "* What is the purpose of Gradient Descent?\n",
    "* What is the difference between a Forward pass and Backpropagation?\n",
    "* What is an optimizer?"
   ],
   "metadata": {
    "id": "t6oG5tDLxj-W"
   }
  },
  {
   "metadata": {},
   "cell_type": "markdown",
   "source": [
    "Answers:\n",
    "* What is the difference between supervised and unsupervised learning?\n",
    "\n",
    "    *  Supervised Learning needs the expected output, so we can learn based on it, and we can detect errors, accuracy and fine the model, there are two big fields of supervised learning : we have classification and regression.\n",
    "\n",
    "    *  But the unsupervised learning is making algorithms on features without a target, for example just for clustering or detecting similarities. So we don't need to have target or an expected output.\n"
   ]
  },
  {
   "metadata": {},
   "cell_type": "markdown",
   "source": [
    "* What is an Activation Function?\n",
    "\n",
    "The activation function for example sigmoid or relu, that gets as input the sums of all the weights multiplied by the values of the neurons plus the biases. Then it checks if it satisfies the threshold or not, if it is, the the next neuron will be activated, otherwise no."
   ]
  },
  {
   "metadata": {},
   "cell_type": "markdown",
   "source": [
    "* What is a Loss Function?\n",
    "\n",
    "The loss function is to verify the error of the result and the expected values. and thanks to the loss function we can fit and train better our model"
   ]
  },
  {
   "metadata": {},
   "cell_type": "markdown",
   "source": [
    "* What is a Multi Layer Perceptron?\n",
    "\n",
    "A multi layer perceptron is a network of neurons that has one input layer, one output layer and a set of hidden layer, that can be at least one hidden layer"
   ]
  },
  {
   "metadata": {},
   "cell_type": "markdown",
   "source": [
    "* What is a Convolutional Layer?\n",
    "\n",
    "The convolutional layer is a layer that detect a pattern from the previous neurons of the previous layer, producing feature map to the next layer, or to the final result."
   ]
  },
  {
   "metadata": {},
   "cell_type": "markdown",
   "source": [
    "* What is the difference between MLP and Conv Layers?\n",
    "\n",
    "    * MLP: Best for non-spatial data (e.g., spreadsheets). Uses dense layers to learn global patterns.\n",
    "\n",
    "    * Convolutional Layer: Best for grid-like data (e.g., images). Uses filters to learn local, hierarchical patterns."
   ]
  },
  {
   "metadata": {},
   "cell_type": "markdown",
   "source": [
    "* What is the purpose of Gradient Descent?\n",
    "\n",
    "Gradient Descent is an optimization algorithm used to minimize a loss function by iteratively adjusting a model’s parameters."
   ]
  },
  {
   "metadata": {},
   "cell_type": "markdown",
   "source": [
    "* What is the difference between a Forward pass and Backpropagation?\n",
    "\n",
    "    * Forward Pass: The model calculates its prediction by passing data through all layers (input → output).\n",
    "    * Backpropagation: The model learns from its mistakes by adjusting weights/biases backward (output → input), using the error to improve future predictions."
   ]
  },
  {
   "metadata": {},
   "cell_type": "markdown",
   "source": [
    "* What is an optimizer\n",
    "\n",
    "An optimizer is an algorithm that adjusts a neural network’s weights and biases during training to minimize the model’s error (loss). It does this by using the gradients (slopes) of the loss function to decide how to update the parameters."
   ]
  },
  {
   "cell_type": "markdown",
   "source": [
    "# II - Some Practice on Python"
   ],
   "metadata": {
    "id": "57lJlFpkm8DN"
   }
  },
  {
   "cell_type": "markdown",
   "source": [
    "You might have used it before but let's do a quick refreshment. Python is used more and more everywhere due to its simplicity."
   ],
   "metadata": {
    "id": "PDJh15dpnoa7"
   }
  },
  {
   "cell_type": "markdown",
   "source": [
    "## a - Defining a function\n",
    "\n",
    "We are going to define few functions. Let's define the following functions:\n",
    "\n",
    "* add\n",
    "* substract\n",
    "* divide\n",
    "* multiply\n",
    "* power\n",
    "\n",
    "**All your functions must take two input arguments a and b **\n",
    "\n",
    "To define a function, it's like matlab :\n",
    "\n",
    "```\n",
    "def function(**kwargs):\n",
    "      # do stuff\n",
    "\n",
    "```"
   ],
   "metadata": {
    "id": "p5t-OYVRn2Qk"
   }
  },
  {
   "cell_type": "code",
   "source": [
    "from sympy.codegen.cnodes import sizeof\n",
    "\n",
    "\n",
    "def add(a,b):\n",
    "    return a + b\n",
    "\n",
    "def substract(a,b):\n",
    "    return a - b\n",
    "\n",
    "def divide(a,b):\n",
    "    return a / b\n",
    "\n",
    "def multiply(a,b):\n",
    "    return a * b\n",
    "\n",
    "def power(a, b):\n",
    "    return a ** b\n"
   ],
   "metadata": {
    "id": "C0yp6kXInHlo",
    "ExecuteTime": {
     "end_time": "2025-03-27T11:34:25.493181Z",
     "start_time": "2025-03-27T11:34:25.473709Z"
    }
   },
   "outputs": [],
   "execution_count": 1
  },
  {
   "cell_type": "markdown",
   "source": [
    "Now test the functions"
   ],
   "metadata": {
    "id": "f6MQWc6VqsIR"
   }
  },
  {
   "cell_type": "code",
   "source": "a,b = 2 , 5\n",
   "metadata": {
    "id": "VrHHUa4eqrn3",
    "colab": {
     "base_uri": "https://localhost:8080/"
    },
    "outputId": "bb25eb5b-1841-44d3-b055-68fd6d56e62c",
    "ExecuteTime": {
     "end_time": "2025-03-27T11:37:12.366997Z",
     "start_time": "2025-03-27T11:37:12.353486Z"
    }
   },
   "outputs": [],
   "execution_count": 8
  },
  {
   "metadata": {
    "ExecuteTime": {
     "end_time": "2025-03-27T11:37:13.337068Z",
     "start_time": "2025-03-27T11:37:13.325020Z"
    }
   },
   "cell_type": "code",
   "source": [
    "print(f\"{a} + {b} = {add(a,b)}\")\n",
    "print(f\"{a} - {b} = {substract(a,b)}\")\n",
    "print(f\"{a} * {b} = {multiply(a,b)}\")\n",
    "print(f\"{a} / {b} = {divide(a,b)}\")\n",
    "print(f\"{a} ** {b} = {power(a,b)}\")"
   ],
   "outputs": [
    {
     "name": "stdout",
     "output_type": "stream",
     "text": [
      "2 + 5 = 7\n",
      "2 - 5 = -3\n",
      "2 * 5 = 10\n",
      "2 / 5 = 0.4\n",
      "2 ** 5 = 32\n"
     ]
    }
   ],
   "execution_count": 9
  },
  {
   "cell_type": "markdown",
   "source": [
    "## b - Defining a class\n",
    "\n",
    "We have defined all the functions, but they are 'independant'. However, as you can see, they all have the same goal: do some calculations...\n",
    "\n",
    "So let's define a basic object: a Calculator. In fact, we are going to create a **Class** which **Attributes** are a and b, to which calculation **Methods** will be applied.\n",
    "\n",
    "To define a class\n",
    "```\n",
    "class YourClass():\n",
    "\n",
    "    def __init__(self,*kwargs):\n",
    "        # Here you define the attributes of your model.\n",
    "        self.kwargs = kwargs\n",
    "\n",
    "    def method1(self,..):\n",
    "        #do stuff\n",
    "    \n",
    "    ...\n",
    "    \n",
    "```\n",
    "\n",
    "If you still don't understand, look at the following skeleton"
   ],
   "metadata": {
    "id": "d9PyVLSmqbAN"
   }
  },
  {
   "cell_type": "code",
   "source": [
    "# We consider a and b two numbers that we want to apply calculation on.\n",
    "# Define a class that takes as attributes a and b and gather all the previous functions as method of this class\n",
    "# We use self to refer to something that is inside the class, an attribute or a method for example. Self represents an instance of the Class\n",
    "class Calculator():\n",
    "\n",
    "    def __init__(self,a,b):\n",
    "        # TODO : Fill the attributes initialisation\n",
    "        self.a = a\n",
    "        self.b = b\n",
    "\n",
    "\n",
    "    def add(self):\n",
    "        # Call and return the sum of attributes\n",
    "        sum = self.a + self.b\n",
    "        return sum\n",
    "\n",
    "    def substract(self):\n",
    "      return self.a - self.b\n",
    "\n",
    "    def divide(self):\n",
    "      return self.a / self.b\n",
    "\n",
    "    def multiply(self):\n",
    "      return self.a * self.b\n",
    "\n",
    "    def power(self):\n",
    "      return self.a ** self.b"
   ],
   "metadata": {
    "id": "8m23-Secq1m8",
    "ExecuteTime": {
     "end_time": "2025-03-27T11:39:03.961586Z",
     "start_time": "2025-03-27T11:39:03.948132Z"
    }
   },
   "outputs": [],
   "execution_count": 10
  },
  {
   "cell_type": "markdown",
   "source": [
    "Now create a calculator object and do some calculation"
   ],
   "metadata": {
    "id": "a4cqYJRvto4j"
   }
  },
  {
   "cell_type": "code",
   "source": [
    "a = 2\n",
    "b = 5\n",
    "calculator = Calculator(a,b)\n",
    "# Call the different methods of your class. To call a method use object.method()"
   ],
   "metadata": {
    "id": "1zlXSiy4t044",
    "ExecuteTime": {
     "end_time": "2025-03-27T11:39:22.089344Z",
     "start_time": "2025-03-27T11:39:22.075817Z"
    }
   },
   "outputs": [],
   "execution_count": 11
  },
  {
   "metadata": {
    "ExecuteTime": {
     "end_time": "2025-03-27T11:40:19.313431Z",
     "start_time": "2025-03-27T11:40:19.300368Z"
    }
   },
   "cell_type": "code",
   "source": [
    "print(f\"{calculator.a} + {calculator.b} = {calculator.add()}\")\n",
    "print(f\"{calculator.a} - {calculator.b} = {calculator.substract()}\")\n",
    "print(f\"{calculator.a} * {calculator.b} = {calculator.multiply()}\")\n",
    "print(f\"{calculator.a} / {calculator.b} = {calculator.divide()}\")\n",
    "print(f\"{calculator.a} ** {calculator.b} = {calculator.power()}\")"
   ],
   "outputs": [
    {
     "name": "stdout",
     "output_type": "stream",
     "text": [
      "2 + 5 = 7\n",
      "2 - 5 = -3\n",
      "2 * 5 = 10\n",
      "2 / 5 = 0.4\n",
      "2 ** 5 = 32\n"
     ]
    }
   ],
   "execution_count": 12
  },
  {
   "cell_type": "markdown",
   "source": [
    "## More exercices\n",
    "\n"
   ],
   "metadata": {
    "id": "HB9El925Gteg"
   }
  },
  {
   "cell_type": "code",
   "source": [
    "# You will use this function later\n",
    "\n",
    "def assert_equals(a, b, message=None):\n",
    "    if message is None:\n",
    "        message = f\"{a} != {b}\"\n",
    "    assert a == b, message"
   ],
   "metadata": {
    "id": "H6_fJEMdKILh",
    "ExecuteTime": {
     "end_time": "2025-03-27T11:47:18.265649Z",
     "start_time": "2025-03-27T11:47:18.253245Z"
    }
   },
   "outputs": [],
   "execution_count": 44
  },
  {
   "cell_type": "markdown",
   "source": [
    "## Sum of all the multiples of 3 or 5\n",
    "\n",
    "If we list all the natural numbers below 10 that are multiples of 3 or 5, we get 3, 5, 6 and 9. The sum of these multiples is 23.\n",
    "\n",
    "Finish the solution so that it returns the sum of all the multiples of 3 or 5 below the number passed in. Additionally, if the number is negative, return 0 (for languages that do have them).\n",
    "\n",
    "Note: If the number is a multiple of both 3 and 5, only count it once.\n",
    "\n",
    "Courtesy of projecteuler.net (Problem 1)"
   ],
   "metadata": {
    "id": "Up9OfqZZH5sg"
   }
  },
  {
   "cell_type": "code",
   "source": [
    "def solution(number):\n",
    "    # TODO\n",
    "    sum = 0\n",
    "    for i in range(3, number):\n",
    "        if i % 3 == 0 or i % 5 == 0:\n",
    "            sum += i\n",
    "    return sum"
   ],
   "metadata": {
    "id": "FyOoM3XEH1HS",
    "ExecuteTime": {
     "end_time": "2025-03-27T11:51:01.024258Z",
     "start_time": "2025-03-27T11:51:01.010256Z"
    }
   },
   "outputs": [],
   "execution_count": 49
  },
  {
   "cell_type": "code",
   "source": [
    "assert_equals(solution(4), 3)\n",
    "assert_equals(solution(6), 8)\n",
    "assert_equals(solution(16), 60)\n",
    "assert_equals(solution(3), 0)\n",
    "assert_equals(solution(5), 3)\n",
    "assert_equals(solution(15), 45)\n",
    "assert_equals(solution(0), 0)\n",
    "assert_equals(solution(-1), 0)\n",
    "assert_equals(solution(10), 23)\n",
    "assert_equals(solution(20), 78)\n",
    "assert_equals(solution(200), 9168)"
   ],
   "metadata": {
    "id": "wKQtzYecH02n",
    "ExecuteTime": {
     "end_time": "2025-03-27T11:51:01.425625Z",
     "start_time": "2025-03-27T11:51:01.414176Z"
    }
   },
   "outputs": [],
   "execution_count": 50
  },
  {
   "cell_type": "markdown",
   "source": [
    "## Vowel Count\n",
    "\n",
    "Return the number (count) of vowels in the given string.\n",
    "\n",
    "We will consider `a`, `e`, `i`, `o`, `u` as vowels for this problem (but not `y`).\n",
    "\n",
    "The input string will only consist of lower case letters and/or spaces."
   ],
   "metadata": {
    "id": "BTPHSZ3JTC9T"
   }
  },
  {
   "cell_type": "code",
   "source": [
    "def get_count(sentence):\n",
    "    # TODO\n",
    "    count = 0\n",
    "    vowels = ['a', 'e', 'i', 'o', 'u']\n",
    "    for letter in sentence:\n",
    "        if letter in vowels:\n",
    "            count += 1\n",
    "    return count"
   ],
   "metadata": {
    "id": "sU2f7WdZTDMe",
    "ExecuteTime": {
     "end_time": "2025-03-27T11:54:01.140582Z",
     "start_time": "2025-03-27T11:54:01.128271Z"
    }
   },
   "outputs": [],
   "execution_count": 51
  },
  {
   "cell_type": "code",
   "source": [
    "assert_equals(get_count(\"aeiou\"), 5, f\"Incorrect answer for \\\"aeiou\\\"\")\n",
    "assert_equals(get_count(\"y\"), 0, f\"Incorrect answer for \\\"y\\\"\")\n",
    "assert_equals(get_count(\"bcdfghjklmnpqrstvwxz y\"), 0, f\"Incorrect answer for \\\"bcdfghjklmnpqrstvwxz y\\\"\")\n",
    "assert_equals(get_count(\"\"), 0, f\"Incorrect answer for empty string\")\n",
    "assert_equals(get_count(\"abracadabra\"), 5, f\"Incorrect answer for \\\"abracadabra\\\"\")"
   ],
   "metadata": {
    "id": "S1N3sHKGTDJa",
    "ExecuteTime": {
     "end_time": "2025-03-27T11:54:01.765255Z",
     "start_time": "2025-03-27T11:54:01.752171Z"
    }
   },
   "outputs": [],
   "execution_count": 52
  },
  {
   "cell_type": "markdown",
   "source": [
    "## Bit Counting\n",
    "\n",
    "Write a function that takes an integer as input, and returns the number of bits that are equal to one in the binary representation of that number. You can guarantee that input is non-negative.\n",
    "\n",
    "Example: The binary representation of `1234` is `10011010010`, so the function should return `5` in this case"
   ],
   "metadata": {
    "id": "YCB-9iTJYXrI"
   }
  },
  {
   "cell_type": "code",
   "source": [
    "def count_bits(n):\n",
    "    # TODO\n",
    "    rests = []\n",
    "    if n == 0:\n",
    "        return 0\n",
    "    elif n == 1:\n",
    "        return 1\n",
    "    while n != 1 :\n",
    "        rests.append(n % 2)\n",
    "        n //= 2\n",
    "    rests.append(1)\n",
    "    count = sum(rests)\n",
    "    return count\n"
   ],
   "metadata": {
    "id": "O3KqJZFVYX_I",
    "ExecuteTime": {
     "end_time": "2025-03-27T12:02:50.949354Z",
     "start_time": "2025-03-27T12:02:50.936357Z"
    }
   },
   "outputs": [],
   "execution_count": 55
  },
  {
   "cell_type": "code",
   "source": [
    "assert_equals(count_bits(0), 0)\n",
    "assert_equals(count_bits(4), 1)\n",
    "assert_equals(count_bits(7), 3)\n",
    "assert_equals(count_bits(9), 2)\n",
    "assert_equals(count_bits(10), 2)"
   ],
   "metadata": {
    "id": "14W5GCMnYYMZ",
    "ExecuteTime": {
     "end_time": "2025-03-27T12:02:51.449065Z",
     "start_time": "2025-03-27T12:02:51.439064Z"
    }
   },
   "outputs": [],
   "execution_count": 56
  },
  {
   "cell_type": "markdown",
   "source": [
    "## Who has the most money?\n",
    "\n",
    "You're going on a trip with some students and it's up to you to keep track of how much money each Student has. A student is defined like this:\n",
    "\n",
    "```python\n",
    "class Student:\n",
    "    def __init__(self, name, fives, tens, twenties):\n",
    "        self.name = name\n",
    "        self.fives = fives\n",
    "        self.tens = tens\n",
    "        self.twenties = twenties\n",
    "```\n",
    "As you can tell, each Student has some fives, tens, and twenties. Your job is to return the name of the student with the most money. If every student has the same amount, then return \"all\".\n",
    "\n",
    "Notes:\n",
    "* Each student will have a unique name\n",
    "* There will always be a clear winner: either one person has the most, or everyone has the same amount\n",
    "* If there is only one student, then that student has the most money"
   ],
   "metadata": {
    "id": "ScubPtrIHweE"
   }
  },
  {
   "cell_type": "code",
   "source": [
    "class Student:\n",
    "    def __init__(self, name, fives, tens, twenties):\n",
    "        self.name = name\n",
    "        self.fives = fives\n",
    "        self.tens = tens\n",
    "        self.twenties = twenties\n",
    "\n",
    "    def get_amount_of_money(self):  # This is correct\n",
    "        return self.fives * 5 + self.tens * 10 + self.twenties * 20\n",
    "\n",
    "def most_money(students):\n",
    "    # NOTE: the Student class is preloaded\n",
    "    # TODO\n",
    "    money = {student.name : student.get_amount_of_money() for student in students}\n",
    "    maximum = max(money.values())\n",
    "    maxMoney =[]\n",
    "    for student in money:\n",
    "        if money.get(student)==maximum:\n",
    "            maxMoney.append(student)\n",
    "    if len(maxMoney) == 1:\n",
    "        result = maxMoney[0]\n",
    "    elif len(students) == len(maxMoney):\n",
    "        result = \"all\"\n",
    "    else:\n",
    "        result = \",\".join(maxMoney)\n",
    "    return result"
   ],
   "metadata": {
    "id": "ZDUeW0LFHwx-",
    "ExecuteTime": {
     "end_time": "2025-03-27T12:30:47.261566Z",
     "start_time": "2025-03-27T12:30:47.250047Z"
    }
   },
   "outputs": [
    {
     "data": {
      "text/plain": [
       "'Geoff'"
      ]
     },
     "execution_count": 119,
     "metadata": {},
     "output_type": "execute_result"
    }
   ],
   "execution_count": 119
  },
  {
   "cell_type": "code",
   "source": [
    "phil = Student(\"Phil\", 2, 2, 1)\n",
    "cam = Student(\"Cameron\", 2, 2, 0)\n",
    "geoff = Student(\"Geoff\", 0, 3, 0)\n",
    "\n",
    "assert_equals(most_money([cam, geoff, phil]), \"Phil\")\n",
    "assert_equals(most_money([cam, geoff]), \"all\")\n",
    "assert_equals(most_money([geoff]), \"Geoff\")"
   ],
   "metadata": {
    "id": "TNPRbNiqHxIM",
    "ExecuteTime": {
     "end_time": "2025-03-27T12:30:47.698981Z",
     "start_time": "2025-03-27T12:30:47.690981Z"
    }
   },
   "outputs": [],
   "execution_count": 120
  },
  {
   "metadata": {},
   "cell_type": "code",
   "outputs": [],
   "execution_count": null,
   "source": ""
  }
 ]
}
